{
 "cells": [
  {
   "cell_type": "markdown",
   "metadata": {},
   "source": [
    "## Importing required libraries"
   ]
  },
  {
   "cell_type": "code",
   "execution_count": 1,
   "metadata": {},
   "outputs": [],
   "source": [
    "import pandas as pd\n",
    "import numpy as np\n",
    "import matplotlib.pyplot as plt\n",
    "import tensorflow as tf\n",
    "from sklearn.preprocessing import MinMaxScaler\n",
    "from tensorflow.keras.layers import Input, Dense, LSTM, Dropout\n",
    "from tensorflow.keras.models import Model\n",
    "from tensorflow.keras.optimizers import SGD, Adam"
   ]
  },
  {
   "cell_type": "markdown",
   "metadata": {},
   "source": [
    "## Creating the training dataset"
   ]
  },
  {
   "cell_type": "code",
   "execution_count": 2,
   "metadata": {},
   "outputs": [
    {
     "data": {
      "text/html": [
       "<div>\n",
       "<style scoped>\n",
       "    .dataframe tbody tr th:only-of-type {\n",
       "        vertical-align: middle;\n",
       "    }\n",
       "\n",
       "    .dataframe tbody tr th {\n",
       "        vertical-align: top;\n",
       "    }\n",
       "\n",
       "    .dataframe thead th {\n",
       "        text-align: right;\n",
       "    }\n",
       "</style>\n",
       "<table border=\"1\" class=\"dataframe\">\n",
       "  <thead>\n",
       "    <tr style=\"text-align: right;\">\n",
       "      <th></th>\n",
       "      <th>Date_reported</th>\n",
       "      <th>Country_code</th>\n",
       "      <th>Country</th>\n",
       "      <th>WHO_region</th>\n",
       "      <th>New_cases</th>\n",
       "      <th>Cumulative_cases</th>\n",
       "      <th>New_deaths</th>\n",
       "      <th>Cumulative_deaths</th>\n",
       "    </tr>\n",
       "  </thead>\n",
       "  <tbody>\n",
       "    <tr>\n",
       "      <th>13327</th>\n",
       "      <td>2020-01-30</td>\n",
       "      <td>IN</td>\n",
       "      <td>India</td>\n",
       "      <td>SEARO</td>\n",
       "      <td>1</td>\n",
       "      <td>1</td>\n",
       "      <td>0</td>\n",
       "      <td>0</td>\n",
       "    </tr>\n",
       "    <tr>\n",
       "      <th>13328</th>\n",
       "      <td>2020-01-31</td>\n",
       "      <td>IN</td>\n",
       "      <td>India</td>\n",
       "      <td>SEARO</td>\n",
       "      <td>0</td>\n",
       "      <td>1</td>\n",
       "      <td>0</td>\n",
       "      <td>0</td>\n",
       "    </tr>\n",
       "    <tr>\n",
       "      <th>13329</th>\n",
       "      <td>2020-02-01</td>\n",
       "      <td>IN</td>\n",
       "      <td>India</td>\n",
       "      <td>SEARO</td>\n",
       "      <td>0</td>\n",
       "      <td>1</td>\n",
       "      <td>0</td>\n",
       "      <td>0</td>\n",
       "    </tr>\n",
       "    <tr>\n",
       "      <th>13330</th>\n",
       "      <td>2020-02-02</td>\n",
       "      <td>IN</td>\n",
       "      <td>India</td>\n",
       "      <td>SEARO</td>\n",
       "      <td>1</td>\n",
       "      <td>2</td>\n",
       "      <td>0</td>\n",
       "      <td>0</td>\n",
       "    </tr>\n",
       "    <tr>\n",
       "      <th>13331</th>\n",
       "      <td>2020-02-03</td>\n",
       "      <td>IN</td>\n",
       "      <td>India</td>\n",
       "      <td>SEARO</td>\n",
       "      <td>1</td>\n",
       "      <td>3</td>\n",
       "      <td>0</td>\n",
       "      <td>0</td>\n",
       "    </tr>\n",
       "  </tbody>\n",
       "</table>\n",
       "</div>"
      ],
      "text/plain": [
       "      Date_reported  Country_code  Country  WHO_region   New_cases  \\\n",
       "13327    2020-01-30            IN    India       SEARO           1   \n",
       "13328    2020-01-31            IN    India       SEARO           0   \n",
       "13329    2020-02-01            IN    India       SEARO           0   \n",
       "13330    2020-02-02            IN    India       SEARO           1   \n",
       "13331    2020-02-03            IN    India       SEARO           1   \n",
       "\n",
       "        Cumulative_cases   New_deaths   Cumulative_deaths  \n",
       "13327                  1            0                   0  \n",
       "13328                  1            0                   0  \n",
       "13329                  1            0                   0  \n",
       "13330                  2            0                   0  \n",
       "13331                  3            0                   0  "
      ]
     },
     "execution_count": 2,
     "metadata": {},
     "output_type": "execute_result"
    }
   ],
   "source": [
    "df = pd.read_csv('WHO-COVID-19-global-data (1).csv')\n",
    "df_new = df[df[' Country'] == 'India']\n",
    "df_new.head()"
   ]
  },
  {
   "cell_type": "code",
   "execution_count": 3,
   "metadata": {},
   "outputs": [
    {
     "data": {
      "text/plain": [
       "(181,)"
      ]
     },
     "execution_count": 3,
     "metadata": {},
     "output_type": "execute_result"
    }
   ],
   "source": [
    "y_tot = df_new[' New_cases'].values\n",
    "y_tot.shape"
   ]
  },
  {
   "cell_type": "code",
   "execution_count": 4,
   "metadata": {},
   "outputs": [],
   "source": [
    "data_train = np.array(y_tot)\n",
    "X_train = []\n",
    "Y_train = []\n",
    "\n",
    "for i in range(7, len(data_train)-6):\n",
    "    X_train.append(data_train[i-7:i])\n",
    "    Y_train.append(data_train[i:i+7])"
   ]
  },
  {
   "cell_type": "code",
   "execution_count": 5,
   "metadata": {},
   "outputs": [
    {
     "data": {
      "text/html": [
       "<div>\n",
       "<style scoped>\n",
       "    .dataframe tbody tr th:only-of-type {\n",
       "        vertical-align: middle;\n",
       "    }\n",
       "\n",
       "    .dataframe tbody tr th {\n",
       "        vertical-align: top;\n",
       "    }\n",
       "\n",
       "    .dataframe thead th {\n",
       "        text-align: right;\n",
       "    }\n",
       "</style>\n",
       "<table border=\"1\" class=\"dataframe\">\n",
       "  <thead>\n",
       "    <tr style=\"text-align: right;\">\n",
       "      <th></th>\n",
       "      <th>0</th>\n",
       "      <th>1</th>\n",
       "      <th>2</th>\n",
       "      <th>3</th>\n",
       "      <th>4</th>\n",
       "      <th>5</th>\n",
       "      <th>6</th>\n",
       "    </tr>\n",
       "  </thead>\n",
       "  <tbody>\n",
       "    <tr>\n",
       "      <th>0</th>\n",
       "      <td>1</td>\n",
       "      <td>0</td>\n",
       "      <td>0</td>\n",
       "      <td>1</td>\n",
       "      <td>1</td>\n",
       "      <td>0</td>\n",
       "      <td>0</td>\n",
       "    </tr>\n",
       "    <tr>\n",
       "      <th>1</th>\n",
       "      <td>0</td>\n",
       "      <td>0</td>\n",
       "      <td>1</td>\n",
       "      <td>1</td>\n",
       "      <td>0</td>\n",
       "      <td>0</td>\n",
       "      <td>0</td>\n",
       "    </tr>\n",
       "    <tr>\n",
       "      <th>2</th>\n",
       "      <td>0</td>\n",
       "      <td>1</td>\n",
       "      <td>1</td>\n",
       "      <td>0</td>\n",
       "      <td>0</td>\n",
       "      <td>0</td>\n",
       "      <td>0</td>\n",
       "    </tr>\n",
       "    <tr>\n",
       "      <th>3</th>\n",
       "      <td>1</td>\n",
       "      <td>1</td>\n",
       "      <td>0</td>\n",
       "      <td>0</td>\n",
       "      <td>0</td>\n",
       "      <td>0</td>\n",
       "      <td>0</td>\n",
       "    </tr>\n",
       "    <tr>\n",
       "      <th>4</th>\n",
       "      <td>1</td>\n",
       "      <td>0</td>\n",
       "      <td>0</td>\n",
       "      <td>0</td>\n",
       "      <td>0</td>\n",
       "      <td>0</td>\n",
       "      <td>0</td>\n",
       "    </tr>\n",
       "    <tr>\n",
       "      <th>...</th>\n",
       "      <td>...</td>\n",
       "      <td>...</td>\n",
       "      <td>...</td>\n",
       "      <td>...</td>\n",
       "      <td>...</td>\n",
       "      <td>...</td>\n",
       "      <td>...</td>\n",
       "    </tr>\n",
       "    <tr>\n",
       "      <th>163</th>\n",
       "      <td>27114</td>\n",
       "      <td>28637</td>\n",
       "      <td>28701</td>\n",
       "      <td>28498</td>\n",
       "      <td>29429</td>\n",
       "      <td>32695</td>\n",
       "      <td>34956</td>\n",
       "    </tr>\n",
       "    <tr>\n",
       "      <th>164</th>\n",
       "      <td>28637</td>\n",
       "      <td>28701</td>\n",
       "      <td>28498</td>\n",
       "      <td>29429</td>\n",
       "      <td>32695</td>\n",
       "      <td>34956</td>\n",
       "      <td>34884</td>\n",
       "    </tr>\n",
       "    <tr>\n",
       "      <th>165</th>\n",
       "      <td>28701</td>\n",
       "      <td>28498</td>\n",
       "      <td>29429</td>\n",
       "      <td>32695</td>\n",
       "      <td>34956</td>\n",
       "      <td>34884</td>\n",
       "      <td>38902</td>\n",
       "    </tr>\n",
       "    <tr>\n",
       "      <th>166</th>\n",
       "      <td>28498</td>\n",
       "      <td>29429</td>\n",
       "      <td>32695</td>\n",
       "      <td>34956</td>\n",
       "      <td>34884</td>\n",
       "      <td>38902</td>\n",
       "      <td>40425</td>\n",
       "    </tr>\n",
       "    <tr>\n",
       "      <th>167</th>\n",
       "      <td>29429</td>\n",
       "      <td>32695</td>\n",
       "      <td>34956</td>\n",
       "      <td>34884</td>\n",
       "      <td>38902</td>\n",
       "      <td>40425</td>\n",
       "      <td>37148</td>\n",
       "    </tr>\n",
       "  </tbody>\n",
       "</table>\n",
       "<p>168 rows × 7 columns</p>\n",
       "</div>"
      ],
      "text/plain": [
       "         0      1      2      3      4      5      6\n",
       "0        1      0      0      1      1      0      0\n",
       "1        0      0      1      1      0      0      0\n",
       "2        0      1      1      0      0      0      0\n",
       "3        1      1      0      0      0      0      0\n",
       "4        1      0      0      0      0      0      0\n",
       "..     ...    ...    ...    ...    ...    ...    ...\n",
       "163  27114  28637  28701  28498  29429  32695  34956\n",
       "164  28637  28701  28498  29429  32695  34956  34884\n",
       "165  28701  28498  29429  32695  34956  34884  38902\n",
       "166  28498  29429  32695  34956  34884  38902  40425\n",
       "167  29429  32695  34956  34884  38902  40425  37148\n",
       "\n",
       "[168 rows x 7 columns]"
      ]
     },
     "execution_count": 5,
     "metadata": {},
     "output_type": "execute_result"
    }
   ],
   "source": [
    "X_train, Y_train = np.array(X_train), np.array(Y_train)\n",
    "X_train.shape\n",
    "Y_train.shape\n",
    "pd.DataFrame(X_train)"
   ]
  },
  {
   "cell_type": "markdown",
   "metadata": {},
   "source": [
    "## Scaling and Transforming the data"
   ]
  },
  {
   "cell_type": "code",
   "execution_count": 6,
   "metadata": {},
   "outputs": [
    {
     "data": {
      "text/plain": [
       "(168, 7)"
      ]
     },
     "execution_count": 6,
     "metadata": {},
     "output_type": "execute_result"
    }
   ],
   "source": [
    "scaler_x = MinMaxScaler()\n",
    "scaler_y = MinMaxScaler()\n",
    "X_train = scaler_x.fit_transform(X_train)\n",
    "Y_train = scaler_y.fit_transform(Y_train)\n",
    "X_train.shape"
   ]
  },
  {
   "cell_type": "code",
   "execution_count": 7,
   "metadata": {},
   "outputs": [],
   "source": [
    "X_train = X_train.reshape(168, 7, 1)"
   ]
  },
  {
   "cell_type": "markdown",
   "metadata": {},
   "source": [
    "## Constructing the model"
   ]
  },
  {
   "cell_type": "code",
   "execution_count": 8,
   "metadata": {},
   "outputs": [],
   "source": [
    "model = tf.keras.models.Sequential()\n",
    "model.add(tf.keras.layers.LSTM(60, activation = 'relu', input_shape=(7, 1))) \n",
    "model.add(tf.keras.layers.Dense(7))\n",
    "model.compile(loss = 'mse', optimizer='adam')"
   ]
  },
  {
   "cell_type": "code",
   "execution_count": 9,
   "metadata": {},
   "outputs": [
    {
     "name": "stdout",
     "output_type": "stream",
     "text": [
      "Epoch 1/100\n",
      "6/6 [==============================] - 0s 5ms/step - loss: 0.0820\n",
      "Epoch 2/100\n",
      "6/6 [==============================] - 0s 7ms/step - loss: 0.0737\n",
      "Epoch 3/100\n",
      "6/6 [==============================] - 0s 6ms/step - loss: 0.0648\n",
      "Epoch 4/100\n",
      "6/6 [==============================] - 0s 6ms/step - loss: 0.0568\n",
      "Epoch 5/100\n",
      "6/6 [==============================] - 0s 5ms/step - loss: 0.0471\n",
      "Epoch 6/100\n",
      "6/6 [==============================] - 0s 5ms/step - loss: 0.0375\n",
      "Epoch 7/100\n",
      "6/6 [==============================] - 0s 6ms/step - loss: 0.0263\n",
      "Epoch 8/100\n",
      "6/6 [==============================] - 0s 5ms/step - loss: 0.0183\n",
      "Epoch 9/100\n",
      "6/6 [==============================] - 0s 5ms/step - loss: 0.0109\n",
      "Epoch 10/100\n",
      "6/6 [==============================] - 0s 5ms/step - loss: 0.0056\n",
      "Epoch 11/100\n",
      "6/6 [==============================] - 0s 6ms/step - loss: 0.0031\n",
      "Epoch 12/100\n",
      "6/6 [==============================] - 0s 5ms/step - loss: 0.0022\n",
      "Epoch 13/100\n",
      "6/6 [==============================] - 0s 5ms/step - loss: 0.0020\n",
      "Epoch 14/100\n",
      "6/6 [==============================] - 0s 6ms/step - loss: 0.0018\n",
      "Epoch 15/100\n",
      "6/6 [==============================] - 0s 6ms/step - loss: 0.0016\n",
      "Epoch 16/100\n",
      "6/6 [==============================] - 0s 5ms/step - loss: 0.0012\n",
      "Epoch 17/100\n",
      "6/6 [==============================] - 0s 5ms/step - loss: 0.0011\n",
      "Epoch 18/100\n",
      "6/6 [==============================] - 0s 6ms/step - loss: 8.5401e-04\n",
      "Epoch 19/100\n",
      "6/6 [==============================] - 0s 5ms/step - loss: 7.6960e-04\n",
      "Epoch 20/100\n",
      "6/6 [==============================] - 0s 5ms/step - loss: 6.5922e-04\n",
      "Epoch 21/100\n",
      "6/6 [==============================] - 0s 6ms/step - loss: 6.0292e-04\n",
      "Epoch 22/100\n",
      "6/6 [==============================] - 0s 5ms/step - loss: 5.5337e-04\n",
      "Epoch 23/100\n",
      "6/6 [==============================] - 0s 5ms/step - loss: 5.1151e-04\n",
      "Epoch 24/100\n",
      "6/6 [==============================] - 0s 6ms/step - loss: 4.8645e-04\n",
      "Epoch 25/100\n",
      "6/6 [==============================] - 0s 5ms/step - loss: 4.6740e-04\n",
      "Epoch 26/100\n",
      "6/6 [==============================] - 0s 6ms/step - loss: 4.5348e-04\n",
      "Epoch 27/100\n",
      "6/6 [==============================] - 0s 5ms/step - loss: 4.3656e-04\n",
      "Epoch 28/100\n",
      "6/6 [==============================] - 0s 5ms/step - loss: 4.2632e-04\n",
      "Epoch 29/100\n",
      "6/6 [==============================] - 0s 9ms/step - loss: 4.2315e-04\n",
      "Epoch 30/100\n",
      "6/6 [==============================] - 0s 7ms/step - loss: 4.0940e-04\n",
      "Epoch 31/100\n",
      "6/6 [==============================] - 0s 7ms/step - loss: 4.1021e-04\n",
      "Epoch 32/100\n",
      "6/6 [==============================] - 0s 5ms/step - loss: 3.9910e-04\n",
      "Epoch 33/100\n",
      "6/6 [==============================] - 0s 5ms/step - loss: 3.9563e-04\n",
      "Epoch 34/100\n",
      "6/6 [==============================] - 0s 5ms/step - loss: 3.9892e-04\n",
      "Epoch 35/100\n",
      "6/6 [==============================] - 0s 6ms/step - loss: 3.9191e-04\n",
      "Epoch 36/100\n",
      "6/6 [==============================] - 0s 6ms/step - loss: 3.9123e-04\n",
      "Epoch 37/100\n",
      "6/6 [==============================] - 0s 6ms/step - loss: 3.9574e-04\n",
      "Epoch 38/100\n",
      "6/6 [==============================] - 0s 5ms/step - loss: 4.0246e-04\n",
      "Epoch 39/100\n",
      "6/6 [==============================] - 0s 5ms/step - loss: 3.8448e-04\n",
      "Epoch 40/100\n",
      "6/6 [==============================] - 0s 5ms/step - loss: 3.8661e-04\n",
      "Epoch 41/100\n",
      "6/6 [==============================] - 0s 5ms/step - loss: 3.8177e-04\n",
      "Epoch 42/100\n",
      "6/6 [==============================] - 0s 5ms/step - loss: 3.7790e-04\n",
      "Epoch 43/100\n",
      "6/6 [==============================] - 0s 5ms/step - loss: 3.8537e-04\n",
      "Epoch 44/100\n",
      "6/6 [==============================] - 0s 5ms/step - loss: 3.9079e-04\n",
      "Epoch 45/100\n",
      "6/6 [==============================] - 0s 7ms/step - loss: 4.0555e-04\n",
      "Epoch 46/100\n",
      "6/6 [==============================] - 0s 7ms/step - loss: 3.8075e-04\n",
      "Epoch 47/100\n",
      "6/6 [==============================] - 0s 5ms/step - loss: 3.7161e-04\n",
      "Epoch 48/100\n",
      "6/6 [==============================] - 0s 5ms/step - loss: 3.8077e-04\n",
      "Epoch 49/100\n",
      "6/6 [==============================] - 0s 6ms/step - loss: 3.7312e-04\n",
      "Epoch 50/100\n",
      "6/6 [==============================] - 0s 5ms/step - loss: 3.7691e-04\n",
      "Epoch 51/100\n",
      "6/6 [==============================] - 0s 5ms/step - loss: 3.6682e-04\n",
      "Epoch 52/100\n",
      "6/6 [==============================] - 0s 5ms/step - loss: 3.6247e-04\n",
      "Epoch 53/100\n",
      "6/6 [==============================] - 0s 5ms/step - loss: 3.8241e-04\n",
      "Epoch 54/100\n",
      "6/6 [==============================] - 0s 7ms/step - loss: 3.7146e-04\n",
      "Epoch 55/100\n",
      "6/6 [==============================] - 0s 7ms/step - loss: 3.6863e-04\n",
      "Epoch 56/100\n",
      "6/6 [==============================] - 0s 6ms/step - loss: 3.6324e-04\n",
      "Epoch 57/100\n",
      "6/6 [==============================] - 0s 6ms/step - loss: 3.7497e-04\n",
      "Epoch 58/100\n",
      "6/6 [==============================] - 0s 6ms/step - loss: 3.6764e-04\n",
      "Epoch 59/100\n",
      "6/6 [==============================] - 0s 5ms/step - loss: 3.6939e-04\n",
      "Epoch 60/100\n",
      "6/6 [==============================] - 0s 6ms/step - loss: 3.7309e-04\n",
      "Epoch 61/100\n",
      "6/6 [==============================] - 0s 5ms/step - loss: 3.7192e-04\n",
      "Epoch 62/100\n",
      "6/6 [==============================] - 0s 5ms/step - loss: 3.6830e-04\n",
      "Epoch 63/100\n",
      "6/6 [==============================] - 0s 5ms/step - loss: 3.7082e-04\n",
      "Epoch 64/100\n",
      "6/6 [==============================] - 0s 5ms/step - loss: 3.6867e-04\n",
      "Epoch 65/100\n",
      "6/6 [==============================] - 0s 5ms/step - loss: 3.6211e-04\n",
      "Epoch 66/100\n",
      "6/6 [==============================] - 0s 6ms/step - loss: 3.6008e-04\n",
      "Epoch 67/100\n",
      "6/6 [==============================] - 0s 5ms/step - loss: 3.6094e-04\n",
      "Epoch 68/100\n",
      "6/6 [==============================] - 0s 5ms/step - loss: 3.6636e-04\n",
      "Epoch 69/100\n",
      "6/6 [==============================] - 0s 5ms/step - loss: 3.7717e-04\n",
      "Epoch 70/100\n",
      "6/6 [==============================] - 0s 5ms/step - loss: 3.6504e-04\n",
      "Epoch 71/100\n",
      "6/6 [==============================] - 0s 5ms/step - loss: 3.8121e-04\n",
      "Epoch 72/100\n",
      "6/6 [==============================] - 0s 5ms/step - loss: 3.6001e-04\n",
      "Epoch 73/100\n",
      "6/6 [==============================] - 0s 5ms/step - loss: 3.7033e-04\n",
      "Epoch 74/100\n",
      "6/6 [==============================] - 0s 4ms/step - loss: 3.5784e-04\n",
      "Epoch 75/100\n",
      "6/6 [==============================] - 0s 5ms/step - loss: 3.6929e-04\n",
      "Epoch 76/100\n",
      "6/6 [==============================] - 0s 4ms/step - loss: 3.6185e-04\n",
      "Epoch 77/100\n",
      "6/6 [==============================] - 0s 5ms/step - loss: 3.5704e-04\n",
      "Epoch 78/100\n",
      "6/6 [==============================] - 0s 5ms/step - loss: 3.6332e-04\n",
      "Epoch 79/100\n",
      "6/6 [==============================] - 0s 5ms/step - loss: 3.6174e-04\n",
      "Epoch 80/100\n",
      "6/6 [==============================] - 0s 5ms/step - loss: 3.6093e-04\n",
      "Epoch 81/100\n",
      "6/6 [==============================] - 0s 5ms/step - loss: 4.0485e-04\n",
      "Epoch 82/100\n",
      "6/6 [==============================] - 0s 4ms/step - loss: 3.8362e-04\n",
      "Epoch 83/100\n",
      "6/6 [==============================] - 0s 5ms/step - loss: 3.7403e-04\n",
      "Epoch 84/100\n",
      "6/6 [==============================] - 0s 5ms/step - loss: 3.5939e-04\n",
      "Epoch 85/100\n",
      "6/6 [==============================] - 0s 5ms/step - loss: 3.6261e-04\n",
      "Epoch 86/100\n",
      "6/6 [==============================] - 0s 5ms/step - loss: 3.8584e-04\n",
      "Epoch 87/100\n",
      "6/6 [==============================] - 0s 5ms/step - loss: 4.0043e-04\n",
      "Epoch 88/100\n",
      "6/6 [==============================] - 0s 5ms/step - loss: 3.6607e-04\n",
      "Epoch 89/100\n",
      "6/6 [==============================] - 0s 5ms/step - loss: 3.6042e-04\n",
      "Epoch 90/100\n",
      "6/6 [==============================] - 0s 4ms/step - loss: 3.5846e-04\n",
      "Epoch 91/100\n",
      "6/6 [==============================] - 0s 5ms/step - loss: 3.5989e-04\n",
      "Epoch 92/100\n",
      "6/6 [==============================] - 0s 5ms/step - loss: 3.6883e-04\n",
      "Epoch 93/100\n",
      "6/6 [==============================] - 0s 4ms/step - loss: 3.5602e-04\n",
      "Epoch 94/100\n",
      "6/6 [==============================] - 0s 5ms/step - loss: 3.6180e-04\n",
      "Epoch 95/100\n",
      "6/6 [==============================] - 0s 6ms/step - loss: 3.5660e-04\n",
      "Epoch 96/100\n",
      "6/6 [==============================] - 0s 5ms/step - loss: 3.5866e-04\n",
      "Epoch 97/100\n",
      "6/6 [==============================] - 0s 5ms/step - loss: 3.7717e-04\n",
      "Epoch 98/100\n",
      "6/6 [==============================] - 0s 6ms/step - loss: 3.6382e-04\n",
      "Epoch 99/100\n",
      "6/6 [==============================] - 0s 4ms/step - loss: 3.6471e-04\n",
      "Epoch 100/100\n"
     ]
    },
    {
     "name": "stdout",
     "output_type": "stream",
     "text": [
      "1/6 [====>.........................] - ETA: 0s - loss: 6.0422e-04\b\b\b\b\b\b\b\b\b\b\b\b\b\b\b\b\b\b\b\b\b\b\b\b\b\b\b\b\b\b\b\b\b\b\b\b\b\b\b\b\b\b\b\b\b\b\b\b\b\b\b\b\b\b\b\b\b\b\b\b\b\b\b\b\b\r",
      "6/6 [==============================] - 0s 5ms/step - loss: 3.6320e-04\n"
     ]
    },
    {
     "data": {
      "text/plain": [
       "<tensorflow.python.keras.callbacks.History at 0x7fcb76304160>"
      ]
     },
     "execution_count": 9,
     "metadata": {},
     "output_type": "execute_result"
    }
   ],
   "source": [
    "model.fit(X_train, Y_train, epochs=100)"
   ]
  },
  {
   "cell_type": "markdown",
   "metadata": {},
   "source": [
    "## Predictions"
   ]
  },
  {
   "cell_type": "code",
   "execution_count": 10,
   "metadata": {},
   "outputs": [],
   "source": [
    "X_test = list(y_tot[-7:])\n",
    "X_test = np.array(X_test)\n",
    "X_test = X_test.reshape(1, 7)\n",
    "X_test = scaler_x.transform(X_test)\n",
    "X_test = X_test.reshape(1, 7, 1)"
   ]
  },
  {
   "cell_type": "code",
   "execution_count": 11,
   "metadata": {},
   "outputs": [
    {
     "data": {
      "text/plain": [
       "array([[1.5785804, 1.4751104, 1.4570287, 1.5660135, 1.619275 , 1.6822962,\n",
       "        1.6616262]], dtype=float32)"
      ]
     },
     "execution_count": 11,
     "metadata": {},
     "output_type": "execute_result"
    }
   ],
   "source": [
    "pred = model.predict(X_test)\n",
    "pred"
   ]
  },
  {
   "cell_type": "code",
   "execution_count": 12,
   "metadata": {},
   "outputs": [
    {
     "data": {
      "text/plain": [
       "[46456, 48228, 50931, 54741, 62993, 68006, 67171]"
      ]
     },
     "execution_count": 12,
     "metadata": {},
     "output_type": "execute_result"
    }
   ],
   "source": [
    "y_true = scaler_x.inverse_transform(pred)\n",
    "list(y_true.astype(int)[0])"
   ]
  },
  {
   "cell_type": "code",
   "execution_count": 13,
   "metadata": {},
   "outputs": [
    {
     "data": {
      "text/plain": [
       "array([37724, 45720, 49310, 48916, 48661, 49931, 47703])"
      ]
     },
     "execution_count": 13,
     "metadata": {},
     "output_type": "execute_result"
    }
   ],
   "source": [
    "y_tot[-7:]"
   ]
  },
  {
   "cell_type": "markdown",
   "metadata": {},
   "source": [
    "## Graph"
   ]
  },
  {
   "cell_type": "code",
   "execution_count": 14,
   "metadata": {},
   "outputs": [],
   "source": [
    "X = df_new['Date_reported'].values\n",
    "X.shape\n",
    "Y = df_new[' New_cases'].values"
   ]
  },
  {
   "cell_type": "code",
   "execution_count": 15,
   "metadata": {},
   "outputs": [],
   "source": [
    "X_pred = ['2020-07-29', '2020-07-30', '2020-07-31', '2020-08-01', '2020-08-02', '2020-08-03', '2020-08-04']\n",
    "Y_pred = list(y_true.astype(int)[0])"
   ]
  },
  {
   "cell_type": "code",
   "execution_count": 16,
   "metadata": {},
   "outputs": [
    {
     "name": "stderr",
     "output_type": "stream",
     "text": [
      "<ipython-input-16-a59a2c556efa>:11: MatplotlibDeprecationWarning: Adding an axes using the same arguments as a previous axes currently reuses the earlier instance.  In a future version, a new instance will always be created and returned.  Meanwhile, this warning can be suppressed, and the future behavior ensured, by passing a unique label to each axes instance.\n",
      "  plt.subplot(111)\n"
     ]
    },
    {
     "data": {
      "image/png": "[encoded data removed]",
      "text/plain": [
       "<Figure size 2160x720 with 1 Axes>"
      ]
     },
     "metadata": {},
     "output_type": "display_data"
    }
   ],
   "source": [
    "%matplotlib inline\n",
    "#Xticks\n",
    "xs = []\n",
    "for i in range(156):\n",
    "    if i%30==0:\n",
    "        xs.append(X[i])\n",
    "plt.style.use('fivethirtyeight')\n",
    "plt.figure(figsize = (30,10))\n",
    "plt.xlabel('Dates', fontsize =50)\n",
    "plt.ylabel('Number of cases', fontsize =50)\n",
    "plt.subplot(111)\n",
    "plt.plot(X, Y, label = 'Previous Daily Cases', color = 'blue')\n",
    "plt.scatter(X_pred, Y_pred, label = 'Predictions', color = 'red')\n",
    "plt.grid(True)\n",
    "plt.xticks(xs)\n",
    "plt.xlabel('Dates')\n",
    "plt.ylabel('Number of cases')\n",
    "plt.legend(fontsize = 30)\n",
    "plt.show()"
   ]
  },
  {
   "cell_type": "code",
   "execution_count": null,
   "metadata": {},
   "outputs": [],
   "source": []
  }
 ],
 "metadata": {
  "kernelspec": {
   "display_name": "Python 3",
   "language": "python",
   "name": "python3"
  },
  "language_info": {
   "codemirror_mode": {
    "name": "ipython",
    "version": 3
   },
   "file_extension": ".py",
   "mimetype": "text/x-python",
   "name": "python",
   "nbconvert_exporter": "python",
   "pygments_lexer": "ipython3",
   "version": "3.8.2"
  }
 },
 "nbformat": 4,
 "nbformat_minor": 4
}
